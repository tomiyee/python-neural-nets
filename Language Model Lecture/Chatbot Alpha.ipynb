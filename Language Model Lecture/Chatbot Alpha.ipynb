{
 "cells": [
  {
   "cell_type": "markdown",
   "metadata": {},
   "source": [
    "# Tommy's Auto Responder v0.1"
   ]
  },
  {
   "cell_type": "code",
   "execution_count": 2,
   "metadata": {
    "collapsed": true
   },
   "outputs": [],
   "source": [
    "import json\n",
    "import requests\n",
    "import time\n",
    "import random\n",
    "\n",
    "TOKEN = \"413228111:AAHdzFBSgxEVmsULUF302VUn0pRVw2ublao\"\n",
    "URL = \"https://api.telegram.org/bot{}/\".format(TOKEN)\n",
    "\n",
    "options = ['Mhmm', 'yes', 'interesting.']\n",
    "\n",
    "def get_url(url):\n",
    "    response = requests.get(url)\n",
    "    content = response.content.decode(\"utf8\")\n",
    "    return content\n",
    "\n",
    "\n",
    "def get_json_from_url(url):\n",
    "    content = get_url(url)\n",
    "    js = json.loads(content)\n",
    "    return js\n",
    "\n",
    "\n",
    "def get_last_update_id(updates):\n",
    "    update_ids = []\n",
    "    for update in updates[\"result\"]:\n",
    "        update_ids.append(int(update[\"update_id\"]))\n",
    "    return max(update_ids)\n",
    "\n",
    "\n",
    "def get_updates(offset=None):\n",
    "    url = URL + \"getUpdates\"\n",
    "    if offset:\n",
    "        url += \"?offset={}\".format(offset)\n",
    "    js = get_json_from_url(url)\n",
    "    return js\n",
    "\n",
    "\n",
    "def get_last_chat_id_and_text(updates):\n",
    "    num_updates = len(updates[\"result\"])\n",
    "    last_update = num_updates - 1\n",
    "    text = updates[\"result\"][last_update][\"message\"][\"text\"]\n",
    "    chat_id = updates[\"result\"][last_update][\"message\"][\"chat\"][\"id\"]\n",
    "    return (text, chat_id)\n",
    "\n",
    "\n",
    "def send_message(text, chat_id):\n",
    "    url = URL + \"sendMessage?text={}&chat_id={}\".format(text, chat_id)\n",
    "    get_url(url)\n",
    "    \n",
    "    \n",
    "def main():\n",
    "    last_textchat = (None, None)\n",
    "    while True:\n",
    "        text, chat = get_last_chat_id_and_text(get_updates())\n",
    "        if (text, chat) != last_textchat:\n",
    "            send_message(options[random.randint(0, len(options)-1)], chat)\n",
    "            last_textchat = (text, chat)\n",
    "        time.sleep(0.5)\n",
    "\n",
    "\n",
    "if __name__ == '__main__':\n",
    "    main()"
   ]
  },
  {
   "cell_type": "code",
   "execution_count": null,
   "metadata": {},
   "outputs": [],
   "source": []
  },
  {
   "cell_type": "code",
   "execution_count": null,
   "metadata": {
    "collapsed": true
   },
   "outputs": [],
   "source": []
  }
 ],
 "metadata": {
  "kernelspec": {
   "display_name": "Python 2",
   "language": "python",
   "name": "python2"
  },
  "language_info": {
   "codemirror_mode": {
    "name": "ipython",
    "version": 2
   },
   "file_extension": ".py",
   "mimetype": "text/x-python",
   "name": "python",
   "nbconvert_exporter": "python",
   "pygments_lexer": "ipython2",
   "version": "2.7.13"
  }
 },
 "nbformat": 4,
 "nbformat_minor": 2
}
