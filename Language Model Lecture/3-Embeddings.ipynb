{
 "cells": [
  {
   "cell_type": "markdown",
   "metadata": {},
   "source": [
    "# Word Embeddings Example"
   ]
  },
  {
   "cell_type": "markdown",
   "metadata": {},
   "source": [
    "Suppose we have a vocabulary of words that we are working with. We want to represent each word as a vector, so that we can use it in a network. One way we could do this is by using **one-hot encoding**. Each word is represented as a vector of all zeros, except for the index corresponding to that word, which is represented as a 1. This means that each sentence is represented by a matrix with dimensions `<nb_words, nb_vocab>`."
   ]
  },
  {
   "cell_type": "code",
   "execution_count": 1,
   "metadata": {},
   "outputs": [
    {
     "name": "stdout",
     "output_type": "stream",
     "text": [
      "Vocabulary:\n",
      "{'brown': 0, 'lazy': 1, 'jumped': 2, 'over': 3, 'fox': 4, 'dog': 5, 'the': 6}\n",
      "\n",
      "One-hot encoded:\n",
      "[[ 0.  0.  0.  0.  0.  0.  1.]\n",
      " [ 1.  0.  0.  0.  0.  0.  0.]\n",
      " [ 0.  0.  0.  0.  1.  0.  0.]\n",
      " [ 0.  0.  1.  0.  0.  0.  0.]\n",
      " [ 0.  0.  0.  1.  0.  0.  0.]\n",
      " [ 0.  0.  0.  0.  0.  0.  1.]\n",
      " [ 0.  1.  0.  0.  0.  0.  0.]\n",
      " [ 0.  0.  0.  0.  0.  1.  0.]]\n"
     ]
    }
   ],
   "source": [
    "from __future__ import print_function\n",
    "import numpy as np\n",
    "np.random.seed(42)\n",
    "\n",
    "sentence = ['the', 'brown', 'fox', 'jumped', 'over', 'the', 'lazy', 'dog']\n",
    "vocabulary = dict([(word, i) for i, word in enumerate(set(sentence))])\n",
    "print('Vocabulary:')\n",
    "print(vocabulary, end='\\n\\n')\n",
    "\n",
    "def one_hot_encode(sentence):\n",
    "    ohe = np.zeros((len(sentence), len(vocabulary)))\n",
    "    for i, word in enumerate(sentence):\n",
    "        ohe[i, vocabulary[word]] = 1\n",
    "    return ohe\n",
    "\n",
    "print('One-hot encoded:')\n",
    "print(one_hot_encode(sentence))"
   ]
  },
  {
   "cell_type": "markdown",
   "metadata": {},
   "source": [
    "The obvious problem is that this scales horribly! If we have 10000 words in our vocabulary, then we are representing each word with 9999 zeros and a single 1! On top of that, the vectors don't tell us anything about how the words are related. A better way is to use **word embeddings**.\n",
    "\n",
    "There are different ways of generating word embeddings. In general, word embeddings are just a vector representation of words which hopefully conveys something about their meaning, for example:\n",
    "\n",
    "`king - man + woman = queen`\n",
    "\n",
    "Two popular methods for generating word embeddings are **word2vec** and **GloVe**. [Elsewhere](http://benjaminbolte.com/blog/2016/keras-gensim-embeddings.html) I have explained how to initialize these models using Gensim and pop the weights into Keras, which is a good idea for a lot of language models. For now, let's try generating some word embeddings using Keras that will help us solve a very simple task.\n",
    "\n",
    "A task that I routinely encounter is having to remember whether or not my friends are red or green. I really wish I had a smarter way to do this, instead of chunking through mounds of data. Fortunately, just such a smarter way exists, and it is what I wanted to write about anyway! Let's see what it is."
   ]
  },
  {
   "cell_type": "code",
   "execution_count": 2,
   "metadata": {},
   "outputs": [
    {
     "name": "stdout",
     "output_type": "stream",
     "text": [
      "sam is red -> [0]\n",
      "hannah not red -> [1]\n",
      "hannah is green -> [1]\n",
      "bob is green -> [1]\n",
      "bob not red -> [1]\n",
      "sam not green -> [0]\n",
      "sarah is red -> [0]\n",
      "sarah not green -> [0]\n"
     ]
    }
   ],
   "source": [
    "import itertools\n",
    "import numpy as np\n",
    "\n",
    "sentences = '''\n",
    "sam is red\n",
    "hannah not red\n",
    "hannah is green\n",
    "bob is green\n",
    "bob not red\n",
    "sam not green\n",
    "sarah is red\n",
    "sarah not green'''.strip().split('\\n')\n",
    "is_green = np.asarray([[0, 1, 1, 1, 1, 0, 0, 0]], dtype='int32').T\n",
    "\n",
    "for s, g in zip(sentences, is_green):\n",
    "    print(s, '->', g)"
   ]
  },
  {
   "cell_type": "markdown",
   "metadata": {},
   "source": [
    "Next, let's **tokenize** the sentences to get individual words, then generate our vocabulary and convert our sentences from words to indices."
   ]
  },
  {
   "cell_type": "code",
   "execution_count": 3,
   "metadata": {},
   "outputs": [
    {
     "name": "stdout",
     "output_type": "stream",
     "text": [
      "Vocabulary:\n",
      "{'sarah': 0, 'sam': 1, 'hannah': 2, 'is': 3, 'green': 4, 'not': 5, 'bob': 6, 'red': 7}\n",
      "\n",
      "Sentences:\n",
      "[[1 3 7]\n",
      " [2 5 7]\n",
      " [2 3 4]\n",
      " [6 3 4]\n",
      " [6 5 7]\n",
      " [1 5 4]\n",
      " [0 3 7]\n",
      " [0 5 4]]\n"
     ]
    }
   ],
   "source": [
    "tokenize = lambda x: x.strip().lower().split(' ')\n",
    "sentences_tokenized = [tokenize(sentence) for sentence in sentences]\n",
    "words = set(itertools.chain(*sentences_tokenized))\n",
    "\n",
    "word2idx = dict((v, i) for i, v in enumerate(words))\n",
    "idx2word = list(words)\n",
    "print('Vocabulary:')\n",
    "print(word2idx, end='\\n\\n')\n",
    "\n",
    "to_idx = lambda x: [word2idx[word] for word in x] # convert a list of words to a list of indices\n",
    "sentences_idx = [to_idx(sentence) for sentence in sentences_tokenized]\n",
    "sentences_array = np.asarray(sentences_idx, dtype='int32')\n",
    "print('Sentences:')\n",
    "print(sentences_array)"
   ]
  },
  {
   "cell_type": "markdown",
   "metadata": {},
   "source": [
    "Here's some parameters for our model. I chose to embed each word into a two-dimensional vector space, because that is easily visualized. For a vocabulary with around 20,000 words, it is common to use embeddings of around 100 to 200 dimensions, although this varies greatly by application."
   ]
  },
  {
   "cell_type": "code",
   "execution_count": 4,
   "metadata": {},
   "outputs": [
    {
     "name": "stdout",
     "output_type": "stream",
     "text": [
      "3 words per sentence, 8 in vocabulary, 2 dimensions for embedding\n"
     ]
    }
   ],
   "source": [
    "sentence_maxlen = 3\n",
    "n_words = len(words)\n",
    "n_embed_dims = 2\n",
    "print('%d words per sentence, %d in vocabulary, %d dimensions for embedding' % (sentence_maxlen, n_words, n_embed_dims))"
   ]
  },
  {
   "cell_type": "markdown",
   "metadata": {},
   "source": [
    "Great! Now let's put together our model in Keras. It takes as inputs a list of indices as integers, then embeds them in a `n_embed_dims`-dimensional space, and then feeds them to a neural network which predicts what color they refer to. Don't worry about the network too much, just understand that the word embedding vectors are being trained on the data so that they provide a representation which is more useful for solving our problem."
   ]
  },
  {
   "cell_type": "code",
   "execution_count": 5,
   "metadata": {},
   "outputs": [
    {
     "name": "stderr",
     "output_type": "stream",
     "text": [
      "Using Theano backend.\n"
     ]
    }
   ],
   "source": [
    "from keras.layers import Input, Embedding, merge, Flatten, Reshape, Lambda\n",
    "import keras.backend as K\n",
    "from keras.models import Model\n",
    "\n",
    "input_sentence = Input(shape=(sentence_maxlen,), dtype='int32')\n",
    "input_embedding = Embedding(n_words, n_embed_dims)(input_sentence)\n",
    "avepool = Lambda(lambda x: K.mean(x, axis=1, keepdims=True), output_shape=lambda x: (x[0], 1))\n",
    "color_prediction = avepool(Reshape((sentence_maxlen * n_embed_dims,))(input_embedding))"
   ]
  },
  {
   "cell_type": "markdown",
   "metadata": {},
   "source": [
    "Lastly, let's fit the model. In Keras, we can easily specify that we want to use binary crossentropy for our loss function; no need to look up it's formula on Wikipedia!"
   ]
  },
  {
   "cell_type": "code",
   "execution_count": 6,
   "metadata": {},
   "outputs": [
    {
     "name": "stdout",
     "output_type": "stream",
     "text": [
      "sarah: [-1.22824633 -1.17062831]\n",
      "sam: [-1.19280672 -1.20614004]\n",
      "hannah: [ 1.80140889  1.8014065 ]\n",
      "is: [ 0.56213224  0.64294231]\n",
      "green: [ 0.59127456  0.60197026]\n",
      "not: [ 0.55490071  0.64983344]\n",
      "bob: [ 1.83830953  1.77629972]\n",
      "red: [ 0.59618628  0.59634411]\n"
     ]
    }
   ],
   "source": [
    "predict_green = Model(input=[input_sentence], output=[color_prediction])\n",
    "predict_green.compile(optimizer='sgd', loss='binary_crossentropy')\n",
    "\n",
    "predict_green.fit([sentences_array], [is_green], nb_epoch=5000, verbose=0)\n",
    "embeddings = predict_green.layers[1].W.get_value()\n",
    "\n",
    "for i in range(n_words):\n",
    "    print('{}: {}'.format(idx2word[i], embeddings[i]))"
   ]
  },
  {
   "cell_type": "markdown",
   "metadata": {
    "collapsed": true
   },
   "source": [
    "Awesome! Let's plot our results to see what kind of embeddings we learned."
   ]
  },
  {
   "cell_type": "code",
   "execution_count": 7,
   "metadata": {},
   "outputs": [
    {
     "data": {
      "image/png": "[encoded data removed]",
      "text/plain": [
       "<matplotlib.figure.Figure at 0x10be04850>"
      ]
     },
     "metadata": {},
     "output_type": "display_data"
    }
   ],
   "source": [
    "%matplotlib inline\n",
    "\n",
    "x1, x2 = embeddings[:, 0], embeddings[:, 1]\n",
    "\n",
    "import matplotlib\n",
    "import matplotlib.pyplot as plt\n",
    "import random\n",
    "\n",
    "fig = plt.figure()\n",
    "ax = fig.gca()\n",
    "offsets_x = [random.randint(0, 1) * 0.6 - 0.3 for _ in range(n_words)]\n",
    "offsets_y = [random.randint(0, 1) * 0.6 - 0.3 for _ in range(n_words)]\n",
    "for i, ox, oy in zip(range(n_words), offsets_x, offsets_y):\n",
    "    ax.plot(x1[i], x2[i], 'o', color='black')\n",
    "    ax.annotate(idx2word[i], xy=[x1[i], x2[i]], xytext=[x1[i] + ox, x2[i] + oy])\n",
    "\n",
    "ax.set_xlim(min(x1)-1, max(x1)+1)\n",
    "ax.set_ylim(min(x2)-1, max(x2)+1)\n",
    "plt.show()"
   ]
  },
  {
   "cell_type": "markdown",
   "metadata": {
    "collapsed": true
   },
   "source": [
    "Bob and Hannah (who were both green) are together in one corner, and Sarah and Sam (who were both red) are together in another corner, with the other parts floating in the middle. The network didn't learn anything unique about \"not\" or \"is\" or \"green\" or \"red\" because it those are higher-order correlations, and it is a simple linear model.\n",
    "\n",
    "In more complex language modeling problems, word embeddings are often useful for providing a starting place for the network, which reduces the parameter search space and hopefully provides a better minimum for the loss function."
   ]
  }
 ],
 "metadata": {
  "kernelspec": {
   "display_name": "Python 2",
   "language": "python",
   "name": "python2"
  },
  "language_info": {
   "codemirror_mode": {
    "name": "ipython",
    "version": 2
   },
   "file_extension": ".py",
   "mimetype": "text/x-python",
   "name": "python",
   "nbconvert_exporter": "python",
   "pygments_lexer": "ipython2",
   "version": "2.7.13"
  }
 },
 "nbformat": 4,
 "nbformat_minor": 1
}
