{
 "cells": [
  {
   "cell_type": "code",
   "execution_count": 4,
   "metadata": {
    "collapsed": true
   },
   "outputs": [],
   "source": [
    "import numpy as np\n",
    "import matplotlib.pyplot as plt\n",
    "import keras\n",
    "import math\n",
    "from random import random as random\n",
    "from random import randint\n",
    "\n",
    "# jupyter command - allows plots to show up\n",
    "%matplotlib inline\n",
    "from matplotlib.pylab import rcParams\n",
    "rcParams['figure.figsize'] = 15, 6\n",
    "\n",
    "from keras.models import Model\n",
    "from keras.layers import Input, Dense\n",
    "from keras.layers import LSTM\n",
    "from datetime import datetime\n"
   ]
  },
  {
   "cell_type": "code",
   "execution_count": 12,
   "metadata": {
    "collapsed": true
   },
   "outputs": [],
   "source": [
    "num_samples = 15000\n",
    "num_features = 3 # a, b and c\n",
    "num_target = 2\n",
    "\n",
    "matrix = np.zeros((num_samples,num_features + num_target))\n",
    "\n",
    "a_range = [-5, 5]\n",
    "b_range = [-40, 40]\n",
    "c_range = [-5, 5]\n",
    "d_range = [-40, 40]\n",
    "np.random.seed(1)\n",
    "def generate_numbers (index, num_samples=num_samples):\n",
    "    if i < num_samples / 5:\n",
    "        a = np.random.randint(a_range[0], a_range[1])\n",
    "        b = np.random.randint(b_range[0], b_range[1])\n",
    "        c = np.random.randint(c_range[0], c_range[1])\n",
    "        d = np.random.randint(d_range[0], d_range[1])\n",
    "    elif i < 2 * num_samples / 5:\n",
    "        a = 1\n",
    "        b = np.random.random() * (b_range[1] - b_range[0])\n",
    "        c = 1\n",
    "        d = np.random.random() * (d_range[1] - d_range[0])\n",
    "    else:\n",
    "        a = np.random.random() * (a_range[1] - a_range[0]) + a_range[0]\n",
    "        b = np.random.random() * (b_range[1] - b_range[0]) + b_range[0]\n",
    "        c = np.random.random() * (c_range[1] - c_range[0]) + c_range[0]\n",
    "        d = np.random.random() * (d_range[1] - d_range[0]) + d_range[0]\n",
    "    return a, b, c, d\n",
    "\n",
    "for i in range(num_samples):\n",
    "    a, b, c, d = generate_numbers(i)\n",
    "    \n",
    "    # b**2 - 4ac\n",
    "    root = (1.0 * a * d + 1.0 * b * c) ** 2 - 4.0 * a * c * b * d\n",
    "    \n",
    "    while abs(a) < 1 or abs(b) < 1 or abs(c) < 1 or abs(d) < 1 or (root < 0):\n",
    "        a, b, c, d = generate_numbers(i)\n",
    "    \n",
    "    matrix[i, 0] = 1.0 * a * c\n",
    "    matrix[i, 1] = 1.0 * a * d + 1.0 * b * c\n",
    "    matrix[i, 2] = 1.0 * b * d\n",
    "    matrix[i, 3] = -1.0 * b / a\n",
    "    matrix[i, 4] = -1.0 * d / c"
   ]
  },
  {
   "cell_type": "code",
   "execution_count": 14,
   "metadata": {
    "collapsed": true
   },
   "outputs": [],
   "source": [
    "np.savetxt(\"quadratic.txt\", matrix)"
   ]
  },
  {
   "cell_type": "code",
   "execution_count": 6,
   "metadata": {
    "collapsed": true
   },
   "outputs": [],
   "source": []
  },
  {
   "cell_type": "code",
   "execution_count": 7,
   "metadata": {
    "collapsed": true
   },
   "outputs": [],
   "source": []
  },
  {
   "cell_type": "code",
   "execution_count": 8,
   "metadata": {
    "collapsed": true
   },
   "outputs": [],
   "source": []
  },
  {
   "cell_type": "code",
   "execution_count": 10,
   "metadata": {
    "collapsed": true
   },
   "outputs": [],
   "source": []
  },
  {
   "cell_type": "code",
   "execution_count": null,
   "metadata": {
    "collapsed": true
   },
   "outputs": [],
   "source": []
  },
  {
   "cell_type": "code",
   "execution_count": null,
   "metadata": {
    "collapsed": true
   },
   "outputs": [],
   "source": []
  },
  {
   "cell_type": "code",
   "execution_count": null,
   "metadata": {
    "collapsed": true
   },
   "outputs": [],
   "source": []
  },
  {
   "cell_type": "code",
   "execution_count": null,
   "metadata": {
    "collapsed": true
   },
   "outputs": [],
   "source": []
  },
  {
   "cell_type": "code",
   "execution_count": 3,
   "metadata": {
    "collapsed": true
   },
   "outputs": [],
   "source": []
  },
  {
   "cell_type": "code",
   "execution_count": null,
   "metadata": {
    "collapsed": true
   },
   "outputs": [],
   "source": []
  },
  {
   "cell_type": "code",
   "execution_count": 4,
   "metadata": {},
   "outputs": [
    {
     "name": "stdout",
     "output_type": "stream",
     "text": [
      "Epoch 1/10\n",
      "17s - loss: 325.3535\n",
      "Epoch 2/10\n",
      "17s - loss: 256.8445\n",
      "Epoch 3/10\n",
      "17s - loss: 227.7838\n",
      "Epoch 4/10\n",
      "17s - loss: 209.3928\n",
      "Epoch 5/10\n",
      "17s - loss: 193.4694\n",
      "Epoch 6/10\n",
      "16s - loss: 204.6288\n",
      "Epoch 7/10\n",
      "16s - loss: 179.7763\n",
      "Epoch 8/10\n",
      "16s - loss: 145.7191\n",
      "Epoch 9/10\n",
      "16s - loss: 144.0086\n",
      "Epoch 10/10\n",
      "16s - loss: 136.1586\n"
     ]
    },
    {
     "data": {
      "text/plain": [
       "<keras.callbacks.History at 0x115374210>"
      ]
     },
     "execution_count": 4,
     "metadata": {},
     "output_type": "execute_result"
    }
   ],
   "source": [
    "np.random.seed(10)\n",
    "\n",
    "inputs = Input(shape=(1,num_features))\n",
    "x = Dense(64, activation='tanh')(inputs)\n",
    "x = Dense(64, activation='tanh')(x)\n",
    "predictions = Dense(2)(x)\n",
    "\n",
    "model = Model(inputs=inputs, outputs=predictions)\n",
    "# optimizer = keras.optimizers.Adagrad(lr=0.01, epsilon=1e-08, decay=0.0)\n",
    "# stochastic gradient descent\n",
    "# optimizer = keras.optimizers.SGD(lr=0.01, momentum=0.0, decay=0.0, nesterov=False)\n",
    "# Adadelta\n",
    "# optimizer = keras.optimizers.Adadelta(lr=1.0, rho=0.95, epsilon=1e-08, decay=0.0)\n",
    "# Adam\n",
    "optimizer = keras.optimizers.Adam(lr=0.001, beta_1=0.9, beta_2=0.999, epsilon=1e-08, decay=0.0)\n",
    "model.compile(loss='mean_squared_error', optimizer=optimizer)\n",
    "model.fit(trainX, trainY, epochs=10, batch_size=1, verbose=2)"
   ]
  },
  {
   "cell_type": "code",
   "execution_count": 17,
   "metadata": {},
   "outputs": [
    {
     "name": "stdout",
     "output_type": "stream",
     "text": [
      "4128/5000 [=======================>......] - ETA: 0s"
     ]
    },
    {
     "data": {
      "text/plain": [
       "124.68907960205078"
      ]
     },
     "execution_count": 17,
     "metadata": {},
     "output_type": "execute_result"
    }
   ],
   "source": [
    "model.evaluate(trainX, trainY)"
   ]
  },
  {
   "cell_type": "code",
   "execution_count": 16,
   "metadata": {},
   "outputs": [
    {
     "name": "stdout",
     "output_type": "stream",
     "text": [
      "Epoch 1/60\n",
      "0s - loss: 135.6352\n",
      "Epoch 2/60\n",
      "0s - loss: 136.8804\n",
      "Epoch 3/60\n",
      "0s - loss: 138.8124\n",
      "Epoch 4/60\n",
      "0s - loss: 142.0824\n",
      "Epoch 5/60\n",
      "0s - loss: 143.2975\n",
      "Epoch 6/60\n",
      "0s - loss: 143.6013\n",
      "Epoch 7/60\n",
      "0s - loss: 143.2787\n",
      "Epoch 8/60\n",
      "0s - loss: 143.0927\n",
      "Epoch 9/60\n",
      "0s - loss: 142.5983\n",
      "Epoch 10/60\n",
      "0s - loss: 141.3296\n",
      "Epoch 11/60\n",
      "0s - loss: 139.2791\n",
      "Epoch 12/60\n",
      "0s - loss: 136.7768\n",
      "Epoch 13/60\n",
      "0s - loss: 134.9098\n",
      "Epoch 14/60\n",
      "0s - loss: 132.5299\n",
      "Epoch 15/60\n",
      "0s - loss: 131.4085\n",
      "Epoch 16/60\n",
      "0s - loss: 131.2593\n",
      "Epoch 17/60\n",
      "0s - loss: 131.1750\n",
      "Epoch 18/60\n",
      "0s - loss: 130.8937\n",
      "Epoch 19/60\n",
      "0s - loss: 130.4403\n",
      "Epoch 20/60\n",
      "0s - loss: 129.9864\n",
      "Epoch 21/60\n",
      "0s - loss: 129.4951\n",
      "Epoch 22/60\n",
      "0s - loss: 129.0315\n",
      "Epoch 23/60\n",
      "0s - loss: 128.6411\n",
      "Epoch 24/60\n",
      "0s - loss: 128.3175\n",
      "Epoch 25/60\n",
      "0s - loss: 128.1842\n",
      "Epoch 26/60\n",
      "0s - loss: 128.2684\n",
      "Epoch 27/60\n",
      "0s - loss: 127.5156\n",
      "Epoch 28/60\n",
      "0s - loss: 127.5772\n",
      "Epoch 29/60\n",
      "0s - loss: 127.6069\n",
      "Epoch 30/60\n",
      "0s - loss: 127.5644\n",
      "Epoch 31/60\n",
      "0s - loss: 127.4573\n",
      "Epoch 32/60\n",
      "0s - loss: 127.2551\n",
      "Epoch 33/60\n",
      "0s - loss: 127.0712\n",
      "Epoch 34/60\n",
      "0s - loss: 126.8733\n",
      "Epoch 35/60\n",
      "0s - loss: 127.5997\n",
      "Epoch 36/60\n",
      "0s - loss: 128.0272\n",
      "Epoch 37/60\n",
      "0s - loss: 127.7599\n",
      "Epoch 38/60\n",
      "0s - loss: 127.6554\n",
      "Epoch 39/60\n",
      "0s - loss: 127.6595\n",
      "Epoch 40/60\n",
      "0s - loss: 127.6208\n",
      "Epoch 41/60\n",
      "0s - loss: 127.5144\n",
      "Epoch 42/60\n",
      "0s - loss: 127.3385\n",
      "Epoch 43/60\n",
      "0s - loss: 127.0550\n",
      "Epoch 44/60\n",
      "0s - loss: 126.7336\n",
      "Epoch 45/60\n",
      "0s - loss: 126.3367\n",
      "Epoch 46/60\n",
      "0s - loss: 126.3795\n",
      "Epoch 47/60\n",
      "0s - loss: 126.6138\n",
      "Epoch 48/60\n",
      "0s - loss: 126.5068\n",
      "Epoch 49/60\n",
      "0s - loss: 126.2110\n",
      "Epoch 50/60\n",
      "0s - loss: 126.0239\n",
      "Epoch 51/60\n",
      "0s - loss: 125.7840\n",
      "Epoch 52/60\n",
      "0s - loss: 125.5871\n",
      "Epoch 53/60\n",
      "0s - loss: 125.4439\n",
      "Epoch 54/60\n",
      "0s - loss: 125.3832\n",
      "Epoch 55/60\n",
      "0s - loss: 125.3176\n",
      "Epoch 56/60\n",
      "0s - loss: 125.1897\n",
      "Epoch 57/60\n",
      "0s - loss: 125.0907\n",
      "Epoch 58/60\n",
      "0s - loss: 124.9514\n",
      "Epoch 59/60\n",
      "0s - loss: 124.8287\n",
      "Epoch 60/60\n",
      "0s - loss: 124.7501\n"
     ]
    },
    {
     "data": {
      "text/plain": [
       "<keras.callbacks.History at 0x114eace50>"
      ]
     },
     "execution_count": 16,
     "metadata": {},
     "output_type": "execute_result"
    }
   ],
   "source": [
    "model.fit(trainX, trainY, epochs=60, batch_size=num_samples/3, verbose=2)"
   ]
  },
  {
   "cell_type": "code",
   "execution_count": 166,
   "metadata": {},
   "outputs": [
    {
     "data": {
      "text/plain": [
       "array([[[-3.61086869, -4.07214594]]], dtype=float32)"
      ]
     },
     "execution_count": 166,
     "metadata": {},
     "output_type": "execute_result"
    }
   ],
   "source": [
    "model.predict(np.array([1,2,1]).reshape(1,1,3))"
   ]
  },
  {
   "cell_type": "code",
   "execution_count": null,
   "metadata": {
    "collapsed": true
   },
   "outputs": [],
   "source": []
  }
 ],
 "metadata": {
  "kernelspec": {
   "display_name": "Python 2",
   "language": "python",
   "name": "python2"
  },
  "language_info": {
   "codemirror_mode": {
    "name": "ipython",
    "version": 2
   },
   "file_extension": ".py",
   "mimetype": "text/x-python",
   "name": "python",
   "nbconvert_exporter": "python",
   "pygments_lexer": "ipython2",
   "version": "2.7.13"
  }
 },
 "nbformat": 4,
 "nbformat_minor": 2
}
