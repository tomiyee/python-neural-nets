{
 "cells": [
  {
   "cell_type": "markdown",
   "metadata": {},
   "source": [
    "# A Neural Network That Solves Quadratics"
   ]
  },
  {
   "cell_type": "code",
   "execution_count": 7,
   "metadata": {},
   "outputs": [],
   "source": [
    "import numpy as np\n",
    "import keras\n",
    "import math\n",
    "from random import random as random\n",
    "from random import randint as randint\n",
    "from keras.models import Model\n",
    "from keras.layers import Input, Dense, LSTM\n",
    "from keras.optimizers import Adam, Adagrad, SGD, Adadelta\n",
    "from keras        import backend as K\n",
    "from datetime     import datetime\n",
    "import matplotlib.pyplot as ply\n",
    "\n",
    "%matplotlib inline\n",
    "from matplotlib.pylab import rcParams\n",
    "rcParams['figure.figsize'] = 15, 6"
   ]
  },
  {
   "cell_type": "code",
   "execution_count": 14,
   "metadata": {},
   "outputs": [],
   "source": [
    "# A numpy matrix of inputs\n",
    "matrix = np.loadtxt(\"quadratic.txt\")\n",
    "num_features = 3\n",
    "num_target   = 2\n",
    "num_samples  = matrix.shape[0]\n",
    "# Separates the matrix into a training set with X and Y\n",
    "trainX = matrix[:, :num_features]\n",
    "trainY = matrix[:, num_features:]\n",
    "trainX = trainX.reshape(num_samples, 1, num_features)\n",
    "trainY = trainY.reshape(num_samples, 1, num_target)"
   ]
  },
  {
   "cell_type": "code",
   "execution_count": 30,
   "metadata": {},
   "outputs": [
    {
     "name": "stdout",
     "output_type": "stream",
     "text": [
      "Epoch 1/10\n",
      "Epoch 2/10\n",
      "Epoch 3/10\n",
      "Epoch 4/10\n",
      "Epoch 5/10\n",
      "Epoch 6/10\n",
      "Epoch 7/10\n",
      "Epoch 8/10\n",
      "Epoch 9/10\n",
      "Epoch 10/10\n",
      "14688/15000 [============================>.] - ETA: 0s"
     ]
    },
    {
     "data": {
      "text/plain": [
       "119.27734100952148"
      ]
     },
     "execution_count": 30,
     "metadata": {},
     "output_type": "execute_result"
    }
   ],
   "source": [
    "np.random.seed(10)\n",
    "\n",
    "# There are 3 inputs\n",
    "inputs = Input(shape=(1, num_features) )\n",
    "# Hidden Layers are uninteresting\n",
    "x = Dense(64, activation='tanh')(inputs)\n",
    "x = Dense(64, activation='tanh')(x)\n",
    "# There should be 2 outputs\n",
    "predictions = Dense(num_target)(x)\n",
    "#creates the model\n",
    "model = Model(inputs = inputs, outputs = predictions)\n",
    "# compiles the model\n",
    "optimizer = Adam(lr=0.001, beta_1=0.9, beta_2=0.999, epsilon=1e-08, decay=0.0)\n",
    "model.compile(loss='mean_squared_error', optimizer=optimizer)\n",
    "model.fit(trainX, trainY, epochs=10, batch_size=1, verbose=3)\n",
    "model.evaluate(trainX, trainY)"
   ]
  },
  {
   "cell_type": "code",
   "execution_count": 34,
   "metadata": {},
   "outputs": [
    {
     "data": {
      "text/plain": [
       "array([[[-0.02072745, -0.17875592]]], dtype=float32)"
      ]
     },
     "execution_count": 34,
     "metadata": {},
     "output_type": "execute_result"
    }
   ],
   "source": [
    "model.predict(np.array([1,2,1]).reshape(1,1,3))"
   ]
  },
  {
   "cell_type": "code",
   "execution_count": null,
   "metadata": {
    "collapsed": true
   },
   "outputs": [],
   "source": [
    "K.clear_session()"
   ]
  },
  {
   "cell_type": "code",
   "execution_count": null,
   "metadata": {
    "collapsed": true
   },
   "outputs": [],
   "source": []
  }
 ],
 "metadata": {
  "kernelspec": {
   "display_name": "Python 2",
   "language": "python",
   "name": "python2"
  },
  "language_info": {
   "codemirror_mode": {
    "name": "ipython",
    "version": 2
   },
   "file_extension": ".py",
   "mimetype": "text/x-python",
   "name": "python",
   "nbconvert_exporter": "python",
   "pygments_lexer": "ipython2",
   "version": "2.7.13"
  }
 },
 "nbformat": 4,
 "nbformat_minor": 2
}
